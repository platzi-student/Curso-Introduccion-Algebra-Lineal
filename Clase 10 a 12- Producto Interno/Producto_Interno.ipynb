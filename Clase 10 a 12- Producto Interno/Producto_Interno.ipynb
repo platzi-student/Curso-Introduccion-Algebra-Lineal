{
  "nbformat": 4,
  "nbformat_minor": 0,
  "metadata": {
    "kernelspec": {
      "display_name": "Python 3",
      "language": "python",
      "name": "python3"
    },
    "language_info": {
      "codemirror_mode": {
        "name": "ipython",
        "version": 3
      },
      "file_extension": ".py",
      "mimetype": "text/x-python",
      "name": "python",
      "nbconvert_exporter": "python",
      "pygments_lexer": "ipython3",
      "version": "3.7.3"
    },
    "colab": {
      "name": "Producto_interno.ipynb",
      "provenance": []
    }
  },
  "cells": [
    {
      "cell_type": "markdown",
      "metadata": {
        "id": "SoDmV8KeyZDl"
      },
      "source": [
        "# 4. Producto Interno"
      ]
    },
    {
      "cell_type": "markdown",
      "metadata": {
        "id": "S_NTZIImyZD8"
      },
      "source": [
        "El *producto interno* (estándar) o simplemente *producto punto* de dos $n$-vectores $\\vec{a},\\vec{b}$ se define como el escalar:\n",
        "\n",
        "$$\n",
        "<\\vec{a},\\vec{b}> = \\vec{a} \\cdot \\vec{b} = a_{0}b_{0}+a_{1}b_{1}+\\cdots+a_{n-1}b_{n-1} = \\displaystyle\\sum_{i=0}^{n-1} a_{i}b_{i}\n",
        "$$\n",
        "\n",
        "Que es simplemente la suma del producto de sus entradas."
      ]
    },
    {
      "cell_type": "markdown",
      "metadata": {
        "id": "v5tue8Y8yZEA"
      },
      "source": [
        "Por ejemplo, si $\\vec{a}=(1,2,3)$ y $\\vec{b}=(4,5,6)$ entonces el producto punto será:\n",
        "\n",
        "$$\n",
        "\\vec{a}\\cdot\\vec{b} = (1,2,3)\\cdot (4,5,6) = 1\\cdot 4+2\\cdot 5 + 3\\cdot 6 = 4+10+18=32\n",
        "$$"
      ]
    },
    {
      "cell_type": "markdown",
      "metadata": {
        "id": "XG8vS4UByZEC"
      },
      "source": [
        "Hasta ahora trabajamos de forma indiferente con *vectores columna* y *vectores renglón*, a partir de este momento **el estándar serán los vectores columna** entonces simpre que hablemos de un vector, dígamos $\\vec{a}$ entonces estaremos hablando del vector columna:\n",
        "\n",
        "$$\n",
        "\\vec{a} = \\begin{bmatrix}a_{0}\\\\ a_{1}\\\\ \\vdots \\\\ a_{n-1}\\end{bmatrix}\n",
        "$$\n",
        "\n",
        "Esto también nos permite introducir una nueva operación: **la transposición**. Retomemos el vector $\\vec{a}$, denotaremos como $\\vec{a}^{T}$ al vector transpuesto de $\\vec{a}$:\n",
        "\n",
        "$$\n",
        "\\vec{a}^{T} = \\begin{bmatrix}a_{0}\\\\ a_{1}\\\\ \\vdots \\\\ a_{n-1}\\end{bmatrix}^{T} = [a_{0}\\; a_{1}\\; \\cdots \\; a_{n-1}]\n",
        "$$\n",
        "\n",
        "La operación de transposición nos permite cambiar de vectores columna a vectores renglón sin modificar al vector que se transponga. Notemos que es posible poder transponer un vector transpuesto_\n",
        "\n",
        "$$\n",
        "\\left(\\vec{a}^{T}\\right)^{T} = \\left(\\begin{bmatrix}a_{0}\\\\ a_{1}\\\\ \\vdots \\\\ a_{n-1}\\end{bmatrix}^{T}\\right)^{T} = [a_{0}\\; a_{1}\\; \\cdots \\; a_{n-1}]^{T} = \\begin{bmatrix}a_{0}\\\\ a_{1}\\\\ \\vdots \\\\ a_{n-1}\\end{bmatrix} = \\vec{a}\n",
        "$$"
      ]
    },
    {
      "cell_type": "markdown",
      "metadata": {
        "id": "KuoDcJTJyZEF"
      },
      "source": [
        "Así pues, consideremos el ejemplo anterior de los vectores $\\vec{a}$ y $\\vec{b}$. Definimos la operación $\\vec{a}^{T}\\vec{b}$ como:\n",
        "\n",
        "$$\n",
        "\\vec{a}^{T}\\; \\vec{b} = [a_{0}\\; a_{1}\\; \\cdots \\; a_{n-1}]  \\begin{bmatrix}b_{0}\\\\ b_{1}\\\\ \\vdots \\\\ b_{n-1}\\end{bmatrix} = a_{0}b_{0} + a_{1}b_{1} + \\cdots + a_{n-1}b_{n-1} = \\displaystyle\\sum_{i=0}^{n-1} a_{i}b_{i}\n",
        "$$\n",
        "\n",
        "Lo cual coincide con la definición del producto interno. Así pues $<\\vec{a},\\vec{b}> = \\vec{a}\\cdot \\vec{b} = \\vec{a}^{T} \\;\\vec{b} = \\displaystyle\\sum_{i=0}^{n-1} a_{i}b_{i}$"
      ]
    },
    {
      "cell_type": "markdown",
      "metadata": {
        "id": "bxEPR4niyZEG"
      },
      "source": [
        "## 4.1 Propiedades del producto interno"
      ]
    },
    {
      "cell_type": "markdown",
      "metadata": {
        "id": "VQHA2Uv8yZEI"
      },
      "source": [
        "Sean $\\vec{a},\\vec{b}$ dos $n$-vectores y $\\alpha$ un escalar. El producto interno entre $\\vec{a}$ y $\\vec{b}$ cumple las siguientes propiedades:\n",
        "\n",
        "* Conmutatividad: $\\vec{a}^{T}\\vec{b} = \\displaystyle\\sum_{i=0}^{n-1} a_{i}b_{i} = \\displaystyle\\sum_{i=0}^{n-1} b_{i}a_{i} = \\vec{b}^{T}\\vec{a}$\n",
        "\n",
        "* Asociatividad con multiplicación escalar: $\\left(\\alpha \\vec{a}\\right)^{T}\\vec{b} = \\alpha\\left(\\vec{a}^{T}\\vec{b}\\right)$\n",
        "\n",
        "* Distribución en la adición de vectores: $\\left(\\vec{a} + \\vec{b}\\right)^{T}\\vec{c} = \\vec{a}^{T}\\vec{c} + \\vec{b}^{T}\\vec{c}$"
      ]
    },
    {
      "cell_type": "markdown",
      "metadata": {
        "id": "19dCn6P9yZEJ"
      },
      "source": [
        "## 4.2 Consideraciones adicionales"
      ]
    },
    {
      "cell_type": "markdown",
      "metadata": {
        "id": "l1MDrea5yZEL"
      },
      "source": [
        "**Proyección**. Si $\\vec{a}$ es un $n$-vector entonces $\\hat{e}_{i}^{T}\\vec{a} = a_{i}$"
      ]
    },
    {
      "cell_type": "markdown",
      "metadata": {
        "id": "wj2ZAGrvyZEM"
      },
      "source": [
        "**Suma de elementos de un vector.** $\\mathbf{1}^{T}a = a_{0}+a_{1}+\\cdots+a_{n-1}$ "
      ]
    },
    {
      "cell_type": "markdown",
      "metadata": {
        "id": "HZx3hvWFyZEN"
      },
      "source": [
        "**Promedio de entradas de un vector.** $(\\mathbf{1}/n)^{T}\\vec{a} = (a_{0}+a_{1}+\\cdots+a_{n-1})/n$"
      ]
    },
    {
      "cell_type": "markdown",
      "metadata": {
        "id": "bTIT6aglyZEP"
      },
      "source": [
        "**Suma de cuadrados de un vector.** $\\vec{a}^{T} \\;\\vec{a} = a_{0}^{2}+a_{1}^{2}+\\cdots+a_{n-1}^{2}$"
      ]
    },
    {
      "cell_type": "markdown",
      "metadata": {
        "id": "Q-Dt5noryZEQ"
      },
      "source": [
        "**Producto interno de bloques de vectores**. Sean $\\vec{a},\\vec{b}$ $k$-vectores formados por concatenar los $n$-vectores $a_{i},b_{i}$:\n",
        "\n",
        "$$\n",
        "\\vec{a}=\\begin{bmatrix}a_{0}\\\\ a_{1}\\\\ \\vdots \\\\ a_{k-1}\\end{bmatrix},\\qquad \\vec{b}=\\begin{bmatrix}b_{0}\\\\ b_{1}\\\\ \\vdots \\\\ b_{k-1}\\end{bmatrix}\n",
        "$$\n",
        "\n",
        "Entonces el producto punto entre estos vectores va como:\n",
        "\n",
        "$$\n",
        "\\vec{a}^{T} \\vec{b} = [a_{0}\\; a_{1}\\; \\cdots \\; a_{k-1}]\\begin{bmatrix}b_{0}\\\\ b_{1}\\\\ \\vdots \\\\ b_{k-1}\\end{bmatrix} = a_{0}^{T}b_{0}+a_{1}^{T}b_{1} + \\cdots + a_{k-1}^{T}b_{k-1}\n",
        "$$"
      ]
    },
    {
      "cell_type": "markdown",
      "metadata": {
        "id": "jnUgqBO3yZER"
      },
      "source": [
        "## 4.3 Producto interno en Python. "
      ]
    },
    {
      "cell_type": "code",
      "metadata": {
        "id": "O51OwCmvyZET"
      },
      "source": [
        "import numpy as np"
      ],
      "execution_count": null,
      "outputs": []
    },
    {
      "cell_type": "markdown",
      "metadata": {
        "id": "XxYWqfd6yZEV"
      },
      "source": [
        "Sean $\\vec{a},\\vec{b}$ vectores en $\\mathbb{R}^{4}$. Diremos que los vectores son **ortogonales** o **perpendiculares** si $\\vec{a}\\cdot \\vec{b}= 0$\n",
        "\n",
        "Consideremos entonces $\\vec{a}=\\hat{e}_{0}$ y $\\vec{b} = \\hat{e}_{2}$. Vamos a realizar el producto punto en Python"
      ]
    },
    {
      "cell_type": "code",
      "metadata": {
        "id": "9QaOi7hsyZEW"
      },
      "source": [
        "a = np.array([1,0,0,0]) #declaramos el vector e_1\n",
        "\n",
        "b = np.array([0,0,1,0]) #declaramos el vector e_2"
      ],
      "execution_count": null,
      "outputs": []
    },
    {
      "cell_type": "markdown",
      "metadata": {
        "id": "qCzECSkJyZEX"
      },
      "source": [
        "Para realizar el producto punto llamaremos a la función *numpy.dot*"
      ]
    },
    {
      "cell_type": "code",
      "metadata": {
        "id": "lo4WZOtLyZEY",
        "outputId": "033365a8-42e5-4310-863a-025c5fc7dc69"
      },
      "source": [
        "print('<a,b> =',np.dot(a,b))"
      ],
      "execution_count": null,
      "outputs": [
        {
          "output_type": "stream",
          "text": [
            "<a,b> = 0\n"
          ],
          "name": "stdout"
        }
      ]
    },
    {
      "cell_type": "markdown",
      "metadata": {
        "id": "Y0maacsVyZEd"
      },
      "source": [
        "De igual manera también podemos usar el operador $@$"
      ]
    },
    {
      "cell_type": "code",
      "metadata": {
        "id": "0o2594duyZEe",
        "outputId": "aede0a64-52c7-41c0-de03-aa31be96bf9d"
      },
      "source": [
        "print('<a,b> =',a.T@b)"
      ],
      "execution_count": null,
      "outputs": [
        {
          "output_type": "stream",
          "text": [
            "<a,b> = 0\n"
          ],
          "name": "stdout"
        }
      ]
    },
    {
      "cell_type": "markdown",
      "metadata": {
        "id": "nU69yp0gyZEf"
      },
      "source": [
        "  "
      ]
    },
    {
      "cell_type": "markdown",
      "metadata": {
        "id": "tPWjgN-zyZEg"
      },
      "source": [
        "**Evaluación de polinomios**. Un polinomio de grado $n-1$ se puede expresar como $p(x) = c_{0} + c_{1}x + c_{2}x^{2} + \\cdots + c_{n-1}x^{n-1}$. Si consideramos los $n$-vectores $\\vec{c},\\vec{x}$ tales que:\n",
        "\n",
        "$$\n",
        "\\vec{c} = \\begin{bmatrix}c_{0}\\\\ c_{1}\\\\ \\vdots \\\\ c_{n-1}\\end{bmatrix},\\qquad \\vec{x}(x) = \\begin{bmatrix}x^{0}\\\\ x^{1}\\\\ \\vdots \\\\ x^{n-1}\\end{bmatrix}\n",
        "$$\n",
        "\n",
        "Así pues, usando estos vectores es posible expresar $p(x) = \\vec{c}^{T}\\vec{x}(x)$. Un ejemplo más concreto sería $p(x)=1+2x$, usando los vectores:\n",
        "\n",
        "$$\n",
        "\\vec{c} = \\begin{bmatrix}1\\\\ 2 \\end{bmatrix}, \\qquad \\vec{x}(x) = \\begin{bmatrix}1\\\\ x \\end{bmatrix}\n",
        "$$\n",
        "\n",
        "Entonces podemos escribir:\n",
        "$$\n",
        "p(x) = \\vec{c}^{T}\\vec{x}(x) = [1 \\; 2] \\begin{bmatrix}1\\\\ x \\end{bmatrix} = 1\\cdot 1 + 2\\cdot x = 1 + 2x\n",
        "$$"
      ]
    },
    {
      "cell_type": "markdown",
      "metadata": {
        "id": "EU1dHb0YyZEi"
      },
      "source": [
        "Así pues en Python podemos escribir el polinomio como:"
      ]
    },
    {
      "cell_type": "code",
      "metadata": {
        "id": "7wNkLsTvyZEj"
      },
      "source": [
        "def p(x):\n",
        "    return np.array([1,2])@np.array([1,x])"
      ],
      "execution_count": null,
      "outputs": []
    },
    {
      "cell_type": "code",
      "metadata": {
        "id": "RyxhdG36yZEk",
        "outputId": "81be39d3-03ac-4de9-e964-45e25ed43f6b"
      },
      "source": [
        "print('p(0) = ',p(0))\n",
        "print('p(1) = ',p(1))\n",
        "print('p(2) = ',p(2))"
      ],
      "execution_count": null,
      "outputs": [
        {
          "output_type": "stream",
          "text": [
            "p(0) =  1\n",
            "p(1) =  3\n",
            "p(2) =  5\n"
          ],
          "name": "stdout"
        }
      ]
    },
    {
      "cell_type": "markdown",
      "metadata": {
        "id": "uHzRsPiUyZEl"
      },
      "source": [
        "## 4.4 Ejercicios."
      ]
    },
    {
      "cell_type": "markdown",
      "metadata": {
        "id": "A3ZJgoVmyZEm"
      },
      "source": [
        "**Problema 1: Análisis de sentimientos de tweets.** Vamos a crear un máquina que pueda decirnos qué tan positivo, neutral o negativo son una serie de respuestas de twitter.  \n",
        "Las respuestas son:\n",
        "> Gran mexicano y excelente en su área, su muerte es una enorme perdida y debería ser luto nacional!!!\n",
        "\n",
        "> Vaya señora que bueno que se asesora por alguien inteligente no por el ignorante del Gatt.\n",
        "\n",
        "> Se me ocurre y sin ver todos los videos de Plazti que me informéis por dónde empiezo. Entiendo que os tendría que decir quién soy y que quiero, vamos conocerme para asesorarme bien.\n",
        "Un saludo\n",
        "\n",
        "> Soy docente universitario, estoy intentando preparar mis clases en modo platzi bien didáctico, (le llamo modo noticiero), descargue una plataforma gratuita de grabación y transmisión de vídeo, se llama Obs estudio!bueno la sigo remando con sus funciones pero sé que saldrá algo!"
      ]
    },
    {
      "cell_type": "code",
      "metadata": {
        "id": "KUYDbKkFyZEo"
      },
      "source": [
        "a = \"Gran mexicano y excelente en su área, su muerte es una enorme perdida y debería ser luto nacional!!!\"\n",
        "a = a.replace(\"!\",\"\").replace(\",\",\"\").split(\" \")"
      ],
      "execution_count": null,
      "outputs": []
    },
    {
      "cell_type": "code",
      "metadata": {
        "id": "AL3i-s1yyZEp",
        "outputId": "ad5f1d42-d21c-48b1-b071-7651b3c3f163"
      },
      "source": [
        "a"
      ],
      "execution_count": null,
      "outputs": [
        {
          "output_type": "execute_result",
          "data": {
            "text/plain": [
              "['Gran',\n",
              " 'mexicano',\n",
              " 'y',\n",
              " 'excelente',\n",
              " 'en',\n",
              " 'su',\n",
              " 'área',\n",
              " 'su',\n",
              " 'muerte',\n",
              " 'es',\n",
              " 'una',\n",
              " 'enorme',\n",
              " 'perdida',\n",
              " 'y',\n",
              " 'debería',\n",
              " 'ser',\n",
              " 'luto',\n",
              " 'nacional']"
            ]
          },
          "metadata": {
            "tags": []
          },
          "execution_count": 8
        }
      ]
    },
    {
      "cell_type": "code",
      "metadata": {
        "id": "NyIk0xfMyZEr",
        "outputId": "0a76ff53-3930-42f0-b4a3-a16b8a24b8e2"
      },
      "source": [
        "if 'muerte' in a:\n",
        "    print(\"Sí\")"
      ],
      "execution_count": null,
      "outputs": [
        {
          "output_type": "stream",
          "text": [
            "Sí\n"
          ],
          "name": "stdout"
        }
      ]
    },
    {
      "cell_type": "markdown",
      "metadata": {
        "id": "TXpS4XQmyZEs"
      },
      "source": [
        "Ahora bien, no podemos sacar toda la información de los textos sino vamos a buscar cadenas (strings) específicas. Así pues vamos a construir una función de Python que cuente la cantidad de veces que aparece cierta cadena. Como ejemplo, supongamos que las palabras que vamos a contar son *muerte*, *pérdida*, *luto*, *excelente*,*gran* y *positivo*, y además esto lo queremos expresar como vector en orden respectivo, así pues el primer comentario lo podemos expresar como el siguiente vector:\n",
        "$$\n",
        "\\vec{w} = \\begin{bmatrix}1\\\\ 1 \\\\ 1\\\\ 1\\\\ 1 \\\\0 \\end{bmatrix}\n",
        "$$\n",
        "Ahora, vamos a crear otra función en la que tendremos el vector con entradas de cantidad de palabras positivas, negativas y neutras. Siguiendo con el ejemplo vamos a sumar un uno a la primer entrada si aparece alguna de las siguientes palabras *excelente*,*gran* y *positivo*, un uno en la segunda por cada vez que aparezca la palabra *pérdida* y un uno a la última entrada si aparecen las palabras *muerte* y *luto*. Así pues, el primer twett lo podemos representar como:\n",
        "\n",
        "$$\n",
        "\\vec{s} = \\begin{bmatrix} 2 \\\\ 1 \\\\2 \\end{bmatrix}\n",
        "$$\n",
        "\n",
        "Ahora, para ver la *calidad* del resultado que tendremos para un twett conviene calcular el promedio de las entradas de un vector de palabras\n",
        "$$avg(\\vec{w}) = (\\mathbf{1}/n)^{T}\\vec{w}$$\n",
        "Y después calcularás el promedio del sentimiento de cada tweet $avg(\\vec{s})$ y de igual manera el *score sentimental* que se define como \n",
        "$$score(\\vec{s}) = [1\\; 0\\; -1] \\begin{bmatrix} s_{0} \\\\ s_{1} \\\\s_{2} \\end{bmatrix}$$"
      ]
    },
    {
      "cell_type": "markdown",
      "metadata": {
        "id": "gSAP2MzDyZEu"
      },
      "source": [
        "Leyendo los tuits decide el conjunto mínimo de palabras que vas a contar en todos los tuits, solamente deberás hacer una función para contar palabras para todos los tuits, no hagas un función por enunciado. Según tu esquema reponde lo siguiente:\n",
        "\n",
        "* ¿Qué tuit es más positivo?\n",
        "\n",
        "* ¿Qué tuit es más negativo?\n",
        "\n",
        "* ¿Cuál es tu calidad promedio?\n",
        "\n",
        "* ¿Cómo interpretas $avg(\\vec{s})$ y $score(\\vec{s})$?\n",
        "\n",
        "* ¿Cómo relacionas la calidad con $score(\\vec{s})$ y $avg(\\vec{s})$?"
      ]
    },
    {
      "cell_type": "code",
      "metadata": {
        "id": "9443TOCvyZEw",
        "outputId": "0fb063d3-5b71-4b56-ed3a-bb67b589dd46",
        "colab": {
          "base_uri": "https://localhost:8080/",
          "height": 175
        }
      },
      "source": [
        "import numpy as np\n",
        "import pandas as pd\n",
        "\n",
        "\n",
        "def feeling(Tweet):\n",
        "  tweet = Tweet.replace(\"!\",\"\").replace(\",\",\"\").replace(\".\",\"\").lower().split(\" \")\n",
        "\n",
        "  palabras =['muerte','pérdida','luto','excelente','gran','positivo','bueno','inteligente','ignorante','platzi','aprender','estudio','bien','queiro']\n",
        "\n",
        "  palabras_positivas =[\"excelente\",\"gran\",\"quiero\",\"positivo\",'bien','positivo','bueno','inteligente']\n",
        "  palabras_neutras = [\"pérdida\",'aprender','estudio','platzi']\n",
        "  palabras_negativas = [\"muerte\",\"luto\",'ignorante']\n",
        "\n",
        "  w = []\n",
        "  positivas = 0\n",
        "  neutras = 0\n",
        "  negativas = 0\n",
        "  \n",
        "\n",
        "  for i in palabras:\n",
        "    w.append(tweet.count(i))\n",
        "    if i in tweet and i in palabras_positivas:\n",
        "      positivas += 1\n",
        "    elif i in tweet and i in palabras_neutras:\n",
        "      neutras += 1\n",
        "    elif i in tweet and i in palabras_negativas:\n",
        "      negativas += 1\n",
        "\n",
        "  s = np.array([positivas,neutras,negativas])\n",
        "  w = np.array(w)\n",
        "\n",
        "  avg = (np.ones(w.size)/w.size).T.dot(w)\n",
        "  score = s/(s[0]+s[1]+s[2])\n",
        "  return Tweet,avg,score[0],score[1],score[2]\n",
        "\n",
        "tweet1 = \"Gran mexicano y excelente en su área, su muerte es una enorme perdida y debería ser luto nacional!!!\"\n",
        "\n",
        "tweet2 = \"Vaya señora que bueno que se asesora por alguien inteligente no por el ignorante del Gatt\"\n",
        "\n",
        "tweet3 = \"Se me ocurre y sin ver todos los videos de Plazti que me informéis por dónde empiezo. Entiendo que os tendría que decir quién soy y que quiero, vamos conocerme para asesorarme bien. Un saludo\"\n",
        "\n",
        "tweet4 = \"Soy docente universitario, estoy intentando preparar mis clases en modo platzi bien didáctico, (le llamo modo noticiero), descargue una plataforma gratuita de grabación y transmisión de vídeo, se llama Obs estudio!bueno la sigo remando con sus funciones pero sé que saldrá algo!\"\n",
        "\n",
        "tweets = [tweet1,tweet2,tweet3,tweet4]\n",
        "resultados = []\n",
        "\n",
        "for j in tweets:\n",
        "  resultados.append(feeling(j))\n",
        "  \n",
        "df = pd.DataFrame(resultados, columns=[\"Tweet\",\"Calidad\",\"P_positiva\",\"P_neutra\",\"P_negativa\"])\n",
        "df"
      ],
      "execution_count": 2,
      "outputs": [
        {
          "output_type": "execute_result",
          "data": {
            "text/plain": [
              "                                               Tweet   Calidad  P_positiva  \\\n",
              "0  Gran mexicano y excelente en su área, su muert...  0.285714    0.500000   \n",
              "1  Vaya señora que bueno que se asesora por algui...  0.214286    0.666667   \n",
              "2  Se me ocurre y sin ver todos los videos de Pla...  0.071429    1.000000   \n",
              "3  Soy docente universitario, estoy intentando pr...  0.142857    0.500000   \n",
              "\n",
              "   P_neutra  P_negativa  \n",
              "0       0.0    0.500000  \n",
              "1       0.0    0.333333  \n",
              "2       0.0    0.000000  \n",
              "3       0.5    0.000000  "
            ],
            "text/html": [
              "\n",
              "  <div id=\"df-d3d1ce24-2309-42e2-b81c-7e5ba5053045\">\n",
              "    <div class=\"colab-df-container\">\n",
              "      <div>\n",
              "<style scoped>\n",
              "    .dataframe tbody tr th:only-of-type {\n",
              "        vertical-align: middle;\n",
              "    }\n",
              "\n",
              "    .dataframe tbody tr th {\n",
              "        vertical-align: top;\n",
              "    }\n",
              "\n",
              "    .dataframe thead th {\n",
              "        text-align: right;\n",
              "    }\n",
              "</style>\n",
              "<table border=\"1\" class=\"dataframe\">\n",
              "  <thead>\n",
              "    <tr style=\"text-align: right;\">\n",
              "      <th></th>\n",
              "      <th>Tweet</th>\n",
              "      <th>Calidad</th>\n",
              "      <th>P_positiva</th>\n",
              "      <th>P_neutra</th>\n",
              "      <th>P_negativa</th>\n",
              "    </tr>\n",
              "  </thead>\n",
              "  <tbody>\n",
              "    <tr>\n",
              "      <th>0</th>\n",
              "      <td>Gran mexicano y excelente en su área, su muert...</td>\n",
              "      <td>0.285714</td>\n",
              "      <td>0.500000</td>\n",
              "      <td>0.0</td>\n",
              "      <td>0.500000</td>\n",
              "    </tr>\n",
              "    <tr>\n",
              "      <th>1</th>\n",
              "      <td>Vaya señora que bueno que se asesora por algui...</td>\n",
              "      <td>0.214286</td>\n",
              "      <td>0.666667</td>\n",
              "      <td>0.0</td>\n",
              "      <td>0.333333</td>\n",
              "    </tr>\n",
              "    <tr>\n",
              "      <th>2</th>\n",
              "      <td>Se me ocurre y sin ver todos los videos de Pla...</td>\n",
              "      <td>0.071429</td>\n",
              "      <td>1.000000</td>\n",
              "      <td>0.0</td>\n",
              "      <td>0.000000</td>\n",
              "    </tr>\n",
              "    <tr>\n",
              "      <th>3</th>\n",
              "      <td>Soy docente universitario, estoy intentando pr...</td>\n",
              "      <td>0.142857</td>\n",
              "      <td>0.500000</td>\n",
              "      <td>0.5</td>\n",
              "      <td>0.000000</td>\n",
              "    </tr>\n",
              "  </tbody>\n",
              "</table>\n",
              "</div>\n",
              "      <button class=\"colab-df-convert\" onclick=\"convertToInteractive('df-d3d1ce24-2309-42e2-b81c-7e5ba5053045')\"\n",
              "              title=\"Convert this dataframe to an interactive table.\"\n",
              "              style=\"display:none;\">\n",
              "        \n",
              "  <svg xmlns=\"http://www.w3.org/2000/svg\" height=\"24px\"viewBox=\"0 0 24 24\"\n",
              "       width=\"24px\">\n",
              "    <path d=\"M0 0h24v24H0V0z\" fill=\"none\"/>\n",
              "    <path d=\"M18.56 5.44l.94 2.06.94-2.06 2.06-.94-2.06-.94-.94-2.06-.94 2.06-2.06.94zm-11 1L8.5 8.5l.94-2.06 2.06-.94-2.06-.94L8.5 2.5l-.94 2.06-2.06.94zm10 10l.94 2.06.94-2.06 2.06-.94-2.06-.94-.94-2.06-.94 2.06-2.06.94z\"/><path d=\"M17.41 7.96l-1.37-1.37c-.4-.4-.92-.59-1.43-.59-.52 0-1.04.2-1.43.59L10.3 9.45l-7.72 7.72c-.78.78-.78 2.05 0 2.83L4 21.41c.39.39.9.59 1.41.59.51 0 1.02-.2 1.41-.59l7.78-7.78 2.81-2.81c.8-.78.8-2.07 0-2.86zM5.41 20L4 18.59l7.72-7.72 1.47 1.35L5.41 20z\"/>\n",
              "  </svg>\n",
              "      </button>\n",
              "      \n",
              "  <style>\n",
              "    .colab-df-container {\n",
              "      display:flex;\n",
              "      flex-wrap:wrap;\n",
              "      gap: 12px;\n",
              "    }\n",
              "\n",
              "    .colab-df-convert {\n",
              "      background-color: #E8F0FE;\n",
              "      border: none;\n",
              "      border-radius: 50%;\n",
              "      cursor: pointer;\n",
              "      display: none;\n",
              "      fill: #1967D2;\n",
              "      height: 32px;\n",
              "      padding: 0 0 0 0;\n",
              "      width: 32px;\n",
              "    }\n",
              "\n",
              "    .colab-df-convert:hover {\n",
              "      background-color: #E2EBFA;\n",
              "      box-shadow: 0px 1px 2px rgba(60, 64, 67, 0.3), 0px 1px 3px 1px rgba(60, 64, 67, 0.15);\n",
              "      fill: #174EA6;\n",
              "    }\n",
              "\n",
              "    [theme=dark] .colab-df-convert {\n",
              "      background-color: #3B4455;\n",
              "      fill: #D2E3FC;\n",
              "    }\n",
              "\n",
              "    [theme=dark] .colab-df-convert:hover {\n",
              "      background-color: #434B5C;\n",
              "      box-shadow: 0px 1px 3px 1px rgba(0, 0, 0, 0.15);\n",
              "      filter: drop-shadow(0px 1px 2px rgba(0, 0, 0, 0.3));\n",
              "      fill: #FFFFFF;\n",
              "    }\n",
              "  </style>\n",
              "\n",
              "      <script>\n",
              "        const buttonEl =\n",
              "          document.querySelector('#df-d3d1ce24-2309-42e2-b81c-7e5ba5053045 button.colab-df-convert');\n",
              "        buttonEl.style.display =\n",
              "          google.colab.kernel.accessAllowed ? 'block' : 'none';\n",
              "\n",
              "        async function convertToInteractive(key) {\n",
              "          const element = document.querySelector('#df-d3d1ce24-2309-42e2-b81c-7e5ba5053045');\n",
              "          const dataTable =\n",
              "            await google.colab.kernel.invokeFunction('convertToInteractive',\n",
              "                                                     [key], {});\n",
              "          if (!dataTable) return;\n",
              "\n",
              "          const docLinkHtml = 'Like what you see? Visit the ' +\n",
              "            '<a target=\"_blank\" href=https://colab.research.google.com/notebooks/data_table.ipynb>data table notebook</a>'\n",
              "            + ' to learn more about interactive tables.';\n",
              "          element.innerHTML = '';\n",
              "          dataTable['output_type'] = 'display_data';\n",
              "          await google.colab.output.renderOutput(dataTable, element);\n",
              "          const docLink = document.createElement('div');\n",
              "          docLink.innerHTML = docLinkHtml;\n",
              "          element.appendChild(docLink);\n",
              "        }\n",
              "      </script>\n",
              "    </div>\n",
              "  </div>\n",
              "  "
            ]
          },
          "metadata": {},
          "execution_count": 2
        }
      ]
    },
    {
      "cell_type": "code",
      "source": [
        "import numpy as np\n",
        "\n",
        "symbols = ['*', '!', '.', ',', '?', '¿', '¡', '(', ')']\n",
        "positive_words = [\"excelente\", \"gran\", \"quiero\", \"positivo\", 'bien', 'positivo', 'bueno', 'inteligente']\n",
        "negative_words = [\"muerte\", \"luto\", 'ignorante']\n",
        "neutral_words = [\"pérdida\", 'aprender', 'estudio', 'platzi', 'informéis']\n",
        "tweet_one = \"Gran mexicano y excelente en su área, su muerte es una enorme perdida y debería ser luto nacional!!\"\n",
        "tweet_two = \"Vaya señora que bueno que se asesora por alguien inteligente no por el ignorante del Gatt\"\n",
        "tweet_three = \"Se me ocurre y sin ver todos los videos de Plazti que me informéis por dónde empiezo.  Entiendo que os tendría que decir quién soy y que quiero, vamos conocerme para asesorarme bien. Un saludo\"\n",
        "tweet_fourth = \"Soy docente universitario, estoy intentando preparar mis clases en modo platzi bien didáctico, (le llamo modo noticiero), descargue una plataforma gratuita de grabación y transmisión de vídeo, se llama Obs estudio!bueno la sigo remando con sus funciones pero sé que saldrá algo!\"\n",
        "\n",
        "\n",
        "def get_split_words(text):\n",
        "    for symbol in symbols:\n",
        "        text = text.replace(symbol, \" \")\n",
        "    text_arr = text.split(\" \")\n",
        "    return text_arr\n",
        "\n",
        "\n",
        "def get_vector_w(text, words_arr):\n",
        "    vector_word = [text.count(i) for i in words_arr]\n",
        "    return np.array(vector_word)\n",
        "\n",
        "\n",
        "def get_vector_s(text):\n",
        "    positive = get_vector_w(text, positive_words).sum()\n",
        "    neutral = get_vector_w(text, neutral_words).sum()\n",
        "    negative = get_vector_w(text, negative_words).sum()\n",
        "    return np.array([positive, neutral, negative])\n",
        "\n",
        "\n",
        "def get_score(tweet):\n",
        "    vector_s = get_vector_s(tweet)\n",
        "    score_vector = np.array([1, 0, -1])\n",
        "\n",
        "    return [f'Text: {tweet}', f'Score: {np.dot(vector_s, score_vector)}', f'Positive: {get_avg(tweet, positive_words)}',\n",
        "            f'Negative: {get_avg(tweet, negative_words)}', f'Neutral: {get_avg(tweet, neutral_words)}']\n",
        "\n",
        "\n",
        "def get_avg(tweet, word_arr):\n",
        "    w = get_vector_w(tweet, word_arr)\n",
        "    avg = (np.ones(w.size) / w.size).T.dot(w)\n",
        "    return avg\n",
        "\n",
        "\n",
        "if __name__ == '__main__':\n",
        "    one = get_score(tweet_one)\n",
        "    for line in one:\n",
        "        print(line)"
      ],
      "metadata": {
        "id": "o-zNrVq2flcS",
        "outputId": "712bf28c-57da-4c4e-b1de-20f11042e009",
        "colab": {
          "base_uri": "https://localhost:8080/"
        }
      },
      "execution_count": 3,
      "outputs": [
        {
          "output_type": "stream",
          "name": "stdout",
          "text": [
            "Text: Gran mexicano y excelente en su área, su muerte es una enorme perdida y debería ser luto nacional!!\n",
            "Score: -1\n",
            "Positive: 0.125\n",
            "Negative: 0.6666666666666666\n",
            "Neutral: 0.0\n"
          ]
        }
      ]
    },
    {
      "cell_type": "code",
      "source": [
        "import numpy as np \n",
        "\n",
        "class twit:\n",
        "    \n",
        "    positivos = ['bien', 'bueno', 'excelente', 'inteligente', 'intentando', 'quiero', 'saldrá', 'sigo', 'vamos', 'gran']\n",
        "    neutrales = ['entiendo', 'plazti', 'alguien', 'asesora', 'asesorarme', 'clases', 'conocerme', 'debería', 'decir', 'descargue',\n",
        "               'didáctico', 'docente', 'dónde', 'empiezo', 'enorme', 'funciones', 'grabación', 'gratuita', 'informéis', 'llama',\n",
        "               'llamo', 'mexicano', 'nacional', 'noticiero', 'ocurre', 'plataforma', 'preparar', 'remando', 'saludo', 'señora', 'tendría',\n",
        "               'todos', 'transmisión', 'universitario', 'ver', 'videos', 'vídeo', 'área']\n",
        "    negativas = ['ignorante', 'luto', 'muerte', 'perdida']\n",
        "    words_specials = positivos + neutrales + negativas\n",
        "\n",
        "    def __init__(self, string):\n",
        "        self.string = string\n",
        "        self.string_split = None\n",
        "        self.w = np.zeros(len(self.words_specials)).reshape(-1, 1)\n",
        "        self.s = np.zeros(3).reshape(-1, 1)\n",
        "        self.avg = None\n",
        "        self.score = None\n",
        "        \n",
        "\n",
        "    def fit(self):\n",
        "        self.string_split = self.string.lower()\n",
        "        self.string_split = self.string_split.replace('!', '').replace(',', '').replace('.', '').replace('(', '').replace(')', '').split()\n",
        "        self.string_split = np.asarray(self.string_split)\n",
        "\n",
        "        words, times = np.unique(self.string_split, return_counts=True)\n",
        "        for i, j in enumerate(self.words_specials):\n",
        "            if j in words:\n",
        "                index = np.where(j)\n",
        "                self.w[i] = times[index]\n",
        "        \n",
        "        for i in self.string_split:\n",
        "            if i in self.positivos:\n",
        "                self.s[0] += 1\n",
        "            elif i in self.negativas:\n",
        "                self.s[2] += 1\n",
        "            elif i in self.neutrales:\n",
        "                self.s[1] += 1\n",
        "                \n",
        "        self.avg = (np.ones(len(self.w)).reshape(-1, 1)/len(self.w)).T.dot(self.w)\n",
        "        self.score = np.array([1, 0, -1]).dot(self.s)\n",
        "    \n",
        "    def print_result(self):\n",
        "        print(f'El twit: {self.string}')\n",
        "        print(f'Tiene una suma w de: {int(sum(self.w))}')\n",
        "        print(f'Una s de: \\n{self.s}')\n",
        "        print(f'Un avg de: {float(self.avg)}')\n",
        "        print(f'Un score de: {int(self.score)}')\n",
        "        \n",
        "a = 'Gran mexicano y excelente en su área, su muerte es una enorme perdida y debería ser luto nacional!!!'\n",
        "b = 'Vaya señora que bueno que se asesora por alguien inteligente no por el ignorante del Gatt.'\n",
        "c = 'Se me ocurre y sin ver todos los videos de Plazti que me informéis por dónde empiezo. Entiendo que os tendría que decir quién soy y que quiero, vamos conocerme para asesorarme bien. Un saludo'\n",
        "d = 'Soy docente universitario, estoy intentando preparar mis clases en modo platzi bien didáctico, (le llamo modo noticiero), descargue una plataforma gratuita de grabación y transmisión de vídeo, se llama Obs estudio!bueno la sigo remando con sus funciones pero sé que saldrá algo!'\n",
        "\n",
        "a = twit(a)\n",
        "a.fit()\n",
        "a.print_result()\n",
        "\n",
        "b = twit(b)\n",
        "b.fit()\n",
        "b.print_result()\n",
        "\n",
        "c = twit(c)\n",
        "c.fit()\n",
        "c.print_result()\n",
        "\n",
        "d = twit(d)\n",
        "d.fit()\n",
        "d.print_result()"
      ],
      "metadata": {
        "id": "RXCUpaiog0MD",
        "outputId": "e440bf1b-28de-4b0a-d8b9-0e31ebc50a9d",
        "colab": {
          "base_uri": "https://localhost:8080/"
        }
      },
      "execution_count": 6,
      "outputs": [
        {
          "output_type": "stream",
          "name": "stdout",
          "text": [
            "El twit: Gran mexicano y excelente en su área, su muerte es una enorme perdida y debería ser luto nacional!!!\n",
            "Tiene una suma w de: 10\n",
            "Una s de: \n",
            "[[2.]\n",
            " [5.]\n",
            " [3.]]\n",
            "Un avg de: 0.1923076923076923\n",
            "Un score de: -1\n",
            "El twit: Vaya señora que bueno que se asesora por alguien inteligente no por el ignorante del Gatt.\n",
            "Tiene una suma w de: 6\n",
            "Una s de: \n",
            "[[2.]\n",
            " [3.]\n",
            " [1.]]\n",
            "Un avg de: 0.11538461538461539\n",
            "Un score de: 1\n",
            "El twit: Se me ocurre y sin ver todos los videos de Plazti que me informéis por dónde empiezo. Entiendo que os tendría que decir quién soy y que quiero, vamos conocerme para asesorarme bien. Un saludo\n",
            "Tiene una suma w de: 17\n",
            "Una s de: \n",
            "[[ 3.]\n",
            " [14.]\n",
            " [ 0.]]\n",
            "Un avg de: 0.3269230769230769\n",
            "Un score de: 3\n",
            "El twit: Soy docente universitario, estoy intentando preparar mis clases en modo platzi bien didáctico, (le llamo modo noticiero), descargue una plataforma gratuita de grabación y transmisión de vídeo, se llama Obs estudio!bueno la sigo remando con sus funciones pero sé que saldrá algo!\n",
            "Tiene una suma w de: 20\n",
            "Una s de: \n",
            "[[ 4.]\n",
            " [16.]\n",
            " [ 0.]]\n",
            "Un avg de: 0.38461538461538464\n",
            "Un score de: 4\n"
          ]
        }
      ]
    },
    {
      "cell_type": "code",
      "source": [
        "import numpy as np\n",
        "import pandas as pd\n",
        "\n",
        "#funcion para eliminar simbolos de puntuación y caracteres especiales, así como tokenizar el tweet para generar un vector\n",
        "#la misma función crear arreglos vacíos de +, - y neutral, después recorre cada tweet y le asigna una puntuación dependiendo del numero de coincidencias con +, - y n.\n",
        "\n",
        "def prep(tweet):\n",
        "  tweet = tweet.replace(\"!\",\"\").replace(\",\",\"\").replace(\".\",\"\").replace(\"(\",\"\").replace(\")\",\"\").lower().split(\" \")\n",
        "\n",
        "  palabras = [\"gran\", \"excelente\", \"muerte\", \"enorme\", \"perdida\", \"luto\", \"bueno\", \"inteligente\", \"ignorante\", \"video\", \"entiendo\",\"bien\", \"platzi\", \"docente\", \"sé\", \"funciones\", \"gratuita\"]\n",
        "\n",
        "  p_positiva = [\"gran\", \"excelente\", \"bueno\", \"inteligente\",\"bien\", \"platzi\", \"gratuita\"]\n",
        "  p_negativa = [\"muerte\", \"enorme\", \"luto\",\"ignorante\"]\n",
        "  p_neutra = [\"enorme\", \"perdida\", \"video\", \"entiendo\",\"platzi\", \"docente\", \"sé\", \"funciones\"]\n",
        "\n",
        "  w = []\n",
        "  positivas = 0\n",
        "  negativas = 0\n",
        "  neutras = 0\n",
        "\n",
        "  for i in palabras:\n",
        "    w.append(tweet.count(i))\n",
        "    if i in tweet and i in p_positiva:\n",
        "      positivas += 1\n",
        "    elif i in tweet and i in p_negativa:\n",
        "      negativas += 1\n",
        "    elif i in tweet and i in p_neutra:\n",
        "      neutras += 1\n",
        "\n",
        "  s  = np.array([positivas, negativas, neutras])\n",
        "  w = np.array(w)\n",
        "\n",
        "  avg = (np.ones(w.size)/w.size).T.dot(w)\n",
        "  score = s/(s[0]+s[1]+s[2]) \n",
        "  return tweet,avg, score[0], score[1], score[2] \n",
        "\n",
        "tweet_1 = \"Gran mexicano y excelente en su área, su muerte es una enorme perdida y debería ser luto nacional!!!\"\n",
        "tweet_2 = \"Vaya señora que bueno que se asesora por alguien inteligente no por el ignorante del Gatt.\"\n",
        "tweet_3 = \"Se me ocurre y sin ver todos los videos de Plazti que me informéis por dónde empiezo. Entiendo que os tendría que decir quién soy y que quiero, vamos conocerme para asesorarme bien. Un saludo\"\n",
        "tweet_4 = \"Soy docente universitario, estoy intentando preparar mis clases en modo platzi bien didáctico, (le llamo modo noticiero), descargue una plataforma gratuita de grabación y transmisión de vídeo, se llama Obs estudio!bueno la sigo remando con sus funciones pero sé que saldrá algo!\"\n",
        "tweets = [tweet_1, tweet_2, tweet_3, tweet_4]\n",
        "resultados = [] \n",
        "\n",
        "for j in tweets:\n",
        "  resultados.append(prep(j))\n",
        "\n",
        "df = pd.DataFrame(resultados, columns = [\"Tweet\", \"Calidad\", \"P Positiva\", \"P Neutra\", \"P Negativa\"])\n",
        "df"
      ],
      "metadata": {
        "id": "-8J5e1Bija5v",
        "outputId": "3360a91f-ded6-47fc-d522-8e4d3c8f6e30",
        "colab": {
          "base_uri": "https://localhost:8080/",
          "height": 175
        }
      },
      "execution_count": 7,
      "outputs": [
        {
          "output_type": "execute_result",
          "data": {
            "text/plain": [
              "                                               Tweet   Calidad  P Positiva  \\\n",
              "0  [gran, mexicano, y, excelente, en, su, área, s...  0.352941    0.333333   \n",
              "1  [vaya, señora, que, bueno, que, se, asesora, p...  0.176471    0.666667   \n",
              "2  [se, me, ocurre, y, sin, ver, todos, los, vide...  0.117647    0.500000   \n",
              "3  [soy, docente, universitario, estoy, intentand...  0.352941    0.500000   \n",
              "\n",
              "   P Neutra  P Negativa  \n",
              "0  0.500000    0.166667  \n",
              "1  0.333333    0.000000  \n",
              "2  0.000000    0.500000  \n",
              "3  0.000000    0.500000  "
            ],
            "text/html": [
              "\n",
              "  <div id=\"df-f269645f-5ac5-4a23-81c0-33fbce1da3d3\">\n",
              "    <div class=\"colab-df-container\">\n",
              "      <div>\n",
              "<style scoped>\n",
              "    .dataframe tbody tr th:only-of-type {\n",
              "        vertical-align: middle;\n",
              "    }\n",
              "\n",
              "    .dataframe tbody tr th {\n",
              "        vertical-align: top;\n",
              "    }\n",
              "\n",
              "    .dataframe thead th {\n",
              "        text-align: right;\n",
              "    }\n",
              "</style>\n",
              "<table border=\"1\" class=\"dataframe\">\n",
              "  <thead>\n",
              "    <tr style=\"text-align: right;\">\n",
              "      <th></th>\n",
              "      <th>Tweet</th>\n",
              "      <th>Calidad</th>\n",
              "      <th>P Positiva</th>\n",
              "      <th>P Neutra</th>\n",
              "      <th>P Negativa</th>\n",
              "    </tr>\n",
              "  </thead>\n",
              "  <tbody>\n",
              "    <tr>\n",
              "      <th>0</th>\n",
              "      <td>[gran, mexicano, y, excelente, en, su, área, s...</td>\n",
              "      <td>0.352941</td>\n",
              "      <td>0.333333</td>\n",
              "      <td>0.500000</td>\n",
              "      <td>0.166667</td>\n",
              "    </tr>\n",
              "    <tr>\n",
              "      <th>1</th>\n",
              "      <td>[vaya, señora, que, bueno, que, se, asesora, p...</td>\n",
              "      <td>0.176471</td>\n",
              "      <td>0.666667</td>\n",
              "      <td>0.333333</td>\n",
              "      <td>0.000000</td>\n",
              "    </tr>\n",
              "    <tr>\n",
              "      <th>2</th>\n",
              "      <td>[se, me, ocurre, y, sin, ver, todos, los, vide...</td>\n",
              "      <td>0.117647</td>\n",
              "      <td>0.500000</td>\n",
              "      <td>0.000000</td>\n",
              "      <td>0.500000</td>\n",
              "    </tr>\n",
              "    <tr>\n",
              "      <th>3</th>\n",
              "      <td>[soy, docente, universitario, estoy, intentand...</td>\n",
              "      <td>0.352941</td>\n",
              "      <td>0.500000</td>\n",
              "      <td>0.000000</td>\n",
              "      <td>0.500000</td>\n",
              "    </tr>\n",
              "  </tbody>\n",
              "</table>\n",
              "</div>\n",
              "      <button class=\"colab-df-convert\" onclick=\"convertToInteractive('df-f269645f-5ac5-4a23-81c0-33fbce1da3d3')\"\n",
              "              title=\"Convert this dataframe to an interactive table.\"\n",
              "              style=\"display:none;\">\n",
              "        \n",
              "  <svg xmlns=\"http://www.w3.org/2000/svg\" height=\"24px\"viewBox=\"0 0 24 24\"\n",
              "       width=\"24px\">\n",
              "    <path d=\"M0 0h24v24H0V0z\" fill=\"none\"/>\n",
              "    <path d=\"M18.56 5.44l.94 2.06.94-2.06 2.06-.94-2.06-.94-.94-2.06-.94 2.06-2.06.94zm-11 1L8.5 8.5l.94-2.06 2.06-.94-2.06-.94L8.5 2.5l-.94 2.06-2.06.94zm10 10l.94 2.06.94-2.06 2.06-.94-2.06-.94-.94-2.06-.94 2.06-2.06.94z\"/><path d=\"M17.41 7.96l-1.37-1.37c-.4-.4-.92-.59-1.43-.59-.52 0-1.04.2-1.43.59L10.3 9.45l-7.72 7.72c-.78.78-.78 2.05 0 2.83L4 21.41c.39.39.9.59 1.41.59.51 0 1.02-.2 1.41-.59l7.78-7.78 2.81-2.81c.8-.78.8-2.07 0-2.86zM5.41 20L4 18.59l7.72-7.72 1.47 1.35L5.41 20z\"/>\n",
              "  </svg>\n",
              "      </button>\n",
              "      \n",
              "  <style>\n",
              "    .colab-df-container {\n",
              "      display:flex;\n",
              "      flex-wrap:wrap;\n",
              "      gap: 12px;\n",
              "    }\n",
              "\n",
              "    .colab-df-convert {\n",
              "      background-color: #E8F0FE;\n",
              "      border: none;\n",
              "      border-radius: 50%;\n",
              "      cursor: pointer;\n",
              "      display: none;\n",
              "      fill: #1967D2;\n",
              "      height: 32px;\n",
              "      padding: 0 0 0 0;\n",
              "      width: 32px;\n",
              "    }\n",
              "\n",
              "    .colab-df-convert:hover {\n",
              "      background-color: #E2EBFA;\n",
              "      box-shadow: 0px 1px 2px rgba(60, 64, 67, 0.3), 0px 1px 3px 1px rgba(60, 64, 67, 0.15);\n",
              "      fill: #174EA6;\n",
              "    }\n",
              "\n",
              "    [theme=dark] .colab-df-convert {\n",
              "      background-color: #3B4455;\n",
              "      fill: #D2E3FC;\n",
              "    }\n",
              "\n",
              "    [theme=dark] .colab-df-convert:hover {\n",
              "      background-color: #434B5C;\n",
              "      box-shadow: 0px 1px 3px 1px rgba(0, 0, 0, 0.15);\n",
              "      filter: drop-shadow(0px 1px 2px rgba(0, 0, 0, 0.3));\n",
              "      fill: #FFFFFF;\n",
              "    }\n",
              "  </style>\n",
              "\n",
              "      <script>\n",
              "        const buttonEl =\n",
              "          document.querySelector('#df-f269645f-5ac5-4a23-81c0-33fbce1da3d3 button.colab-df-convert');\n",
              "        buttonEl.style.display =\n",
              "          google.colab.kernel.accessAllowed ? 'block' : 'none';\n",
              "\n",
              "        async function convertToInteractive(key) {\n",
              "          const element = document.querySelector('#df-f269645f-5ac5-4a23-81c0-33fbce1da3d3');\n",
              "          const dataTable =\n",
              "            await google.colab.kernel.invokeFunction('convertToInteractive',\n",
              "                                                     [key], {});\n",
              "          if (!dataTable) return;\n",
              "\n",
              "          const docLinkHtml = 'Like what you see? Visit the ' +\n",
              "            '<a target=\"_blank\" href=https://colab.research.google.com/notebooks/data_table.ipynb>data table notebook</a>'\n",
              "            + ' to learn more about interactive tables.';\n",
              "          element.innerHTML = '';\n",
              "          dataTable['output_type'] = 'display_data';\n",
              "          await google.colab.output.renderOutput(dataTable, element);\n",
              "          const docLink = document.createElement('div');\n",
              "          docLink.innerHTML = docLinkHtml;\n",
              "          element.appendChild(docLink);\n",
              "        }\n",
              "      </script>\n",
              "    </div>\n",
              "  </div>\n",
              "  "
            ]
          },
          "metadata": {},
          "execution_count": 7
        }
      ]
    }
  ]
}